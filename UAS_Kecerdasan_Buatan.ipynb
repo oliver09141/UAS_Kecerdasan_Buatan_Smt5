{
 "cells": [
  {
   "cell_type": "code",
   "execution_count": 31,
   "id": "b8e72855-6cfd-4800-9b14-0bee06fa140b",
   "metadata": {},
   "outputs": [],
   "source": [
    "#Nama: Raka Permana\n",
    "#Nim:221011400959\n",
    "#Kelas:05TPLE0177CS\n",
    "#Matkul:Kecerdasan Buatan\n",
    "\n",
    "import numpy as np\n",
    "import skfuzzy as fuzz\n",
    "from skfuzzy import control as ctrl\n",
    "\n",
    "kecepatan_pelayanan = ctrl.Antecedent(np.arange(0, 11, 1), 'kecepatan_pelayanan')\n",
    "kualitas_makanan = ctrl.Antecedent(np.arange(0, 11, 1), 'kualitas_makanan')\n",
    "suasana = ctrl.Antecedent(np.arange(0, 11, 1), 'suasana')\n",
    "kebahagiaan_pelanggan = ctrl.Consequent(np.arange(0, 101, 1), 'kebahagiaan_pelanggan')\n",
    "\n",
    "kecepatan_pelayanan['lambat'] = fuzz.trimf(kecepatan_pelayanan.universe, [0, 0, 5])\n",
    "kecepatan_pelayanan['sedang'] = fuzz.trimf(kecepatan_pelayanan.universe, [0, 5, 10])\n",
    "kecepatan_pelayanan['cepat'] = fuzz.trimf(kecepatan_pelayanan.universe, [5, 10, 10])\n",
    "\n",
    "kualitas_makanan['buruk'] = fuzz.trimf(kualitas_makanan.universe, [0, 0, 5])\n",
    "kualitas_makanan['sedang'] = fuzz.trimf(kualitas_makanan.universe, [0, 5, 10])\n",
    "kualitas_makanan['baik'] = fuzz.trimf(kualitas_makanan.universe, [5, 10, 10])\n",
    "\n",
    "suasana['buruk'] = fuzz.trimf(suasana.universe, [0, 0, 5])\n",
    "suasana['biasa'] = fuzz.trimf(suasana.universe, [0, 5, 10])\n",
    "suasana['baik'] = fuzz.trimf(suasana.universe, [5, 10, 10])\n",
    "\n",
    "kebahagiaan_pelanggan['rendah'] = fuzz.trimf(kebahagiaan_pelanggan.universe, [0, 0, 50])\n",
    "kebahagiaan_pelanggan['sedang'] = fuzz.trimf(kebahagiaan_pelanggan.universe, [0, 50, 100])\n",
    "kebahagiaan_pelanggan['tinggi'] = fuzz.trimf(kebahagiaan_pelanggan.universe, [50, 100, 100])\n",
    "\n",
    "aturan1 = ctrl.Rule(kecepatan_pelayanan['lambat'] | kualitas_makanan['buruk'] | suasana['buruk'], kebahagiaan_pelanggan['rendah'])\n",
    "aturan2 = ctrl.Rule(kecepatan_pelayanan['sedang'] & kualitas_makanan['sedang'] & suasana['biasa'], kebahagiaan_pelanggan['sedang'])\n",
    "aturan3 = ctrl.Rule(kecepatan_pelayanan['cepat'] & kualitas_makanan['baik'] & suasana['baik'], kebahagiaan_pelanggan['tinggi'])\n",
    "\n",
    "kontrol_kebahagiaan = ctrl.ControlSystem([aturan1, aturan2, aturan3])\n",
    "simulasi_kebahagiaan = ctrl.ControlSystemSimulation(kontrol_kebahagiaan)\n",
    "\n",
    "simulasi_kebahagiaan.input['kecepatan_pelayanan'] = 4\n",
    "simulasi_kebahagiaan.input['kualitas_makanan'] = 8\n",
    "simulasi_kebahagiaan.input['suasana'] = 9\n",
    "\n",
    "simulasi_kebahagiaan.compute()"
   ]
  },
  {
   "cell_type": "code",
   "execution_count": 32,
   "id": "06623cf4-e820-419a-ba0d-2cc6a2fe87ad",
   "metadata": {},
   "outputs": [
    {
     "name": "stdout",
     "output_type": "stream",
     "text": [
      "Tingkat Kebahagiaan Pelanggan: 47.54385964912288%\n"
     ]
    }
   ],
   "source": [
    "print(f\"Tingkat Kebahagiaan Pelanggan: {simulasi_kebahagiaan.output['kebahagiaan_pelanggan']}%\")"
   ]
  }
 ],
 "metadata": {
  "kernelspec": {
   "display_name": "Python 3 (ipykernel)",
   "language": "python",
   "name": "python3"
  },
  "language_info": {
   "codemirror_mode": {
    "name": "ipython",
    "version": 3
   },
   "file_extension": ".py",
   "mimetype": "text/x-python",
   "name": "python",
   "nbconvert_exporter": "python",
   "pygments_lexer": "ipython3",
   "version": "3.12.2"
  }
 },
 "nbformat": 4,
 "nbformat_minor": 5
}
